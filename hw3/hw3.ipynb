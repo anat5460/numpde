{
 "cells": [
  {
   "cell_type": "markdown",
   "metadata": {},
   "source": [
    "# Homework 3\n",
    "CSCI 5636  \n",
    "Andrew Altomare\n",
    "\n",
    "Here we solve the regularized $p$-Laplacian\n",
    "$$ -\\nabla\\cdot (\\kappa(\\nabla u)\\nabla u) = 0 $$\n",
    "where\n",
    "$$ \\kappa(\\nabla u) = \\left(\\frac{1}{2}\\epsilon^2+\\frac{1}{2}\\nabla u\\cdot\\nabla u\\right)^{\\frac{p-2}{2}} $$\n",
    "\n",
    "studying its response to variation in parameters $p, \\epsilon$ and surveying a few different linear solvers in the process.\n",
    "\n",
    "## Part 1\n",
    "\n",
    "`picard_laplacian` below is an adaptation of `nonlinear2d_div` from lecture to accommodate $\\kappa$, a function of $\\nabla u$, and yield a Picard linearization. By default, we solve over the domain $\\Omega = [0,1]\\times [0,1]$ with Dirichlet conditions on the entire boundary $u|_{\\Gamma_D} = 0$\n",
    "\n",
    "Accommodating the new $\\kappa$ is accomplished by expanding the stencil to 9 points and computing full gradients of $u$ at staggered points. There is an additional parameter `J_switch`, which returns only the residual, $F = -\\nabla\\cdot (\\kappa(\\nabla u)\\nabla u) $, to avoid wasteful computation in the Newton-Krylov solver."
   ]
  },
  {
   "cell_type": "code",
   "execution_count": 341,
   "metadata": {},
   "outputs": [],
   "source": [
    "import numpy\n",
    "import scipy.sparse as sp\n",
    "import scipy.sparse.linalg\n",
    "from matplotlib import pyplot\n",
    "\n",
    "def hgrid(h):\n",
    "    m = int(1/h + 1)  # Number of elements in terms of nominal grid spacing h\n",
    "    h = 1 / (m-1)     # Actual grid spacing\n",
    "    c = numpy.linspace(0, 1, m)\n",
    "    y, x = numpy.meshgrid(c, c)\n",
    "    return x, y\n",
    "\n",
    "def picard_laplacian(h, x, y, u, forcing, g0, params, dirichlet=((),()), J_switch=True):\n",
    "    eps, p = params\n",
    "    m = x.shape[0] # number of rows in grid\n",
    "    u0 = g0(x, y).flatten() # value of u at boundary\n",
    "    F = -forcing(x, y).flatten() \n",
    "    ai = []\n",
    "    aj = []\n",
    "    av = []\n",
    "    def idx(i, j): # convert indices to 1D\n",
    "        i = (m-1) - abs(m-1 - abs(i))\n",
    "        j = (m-1) - abs(m-1 - abs(j))\n",
    "        return i*m + j\n",
    "    mask = numpy.ones_like(x, dtype=bool) # mask domain and 0 out boundary, flatten\n",
    "    mask[dirichlet[0],:] = False\n",
    "    mask[:,dirichlet[1]] = False\n",
    "    mask = mask.flatten()\n",
    "    u = u.flatten()\n",
    "    F[mask == False] = u[mask == False] - u0[mask == False]\n",
    "    u[mask == False] = u0[mask == False]\n",
    "    for i in range(m):\n",
    "        for j in range(m):\n",
    "            row = idx(i, j)\n",
    "            # 9 point stencil\n",
    "            stencili = numpy.array([idx(*pair) for pair in [(i-1,j-1), (i-1, j), (i-1, j+1), (i, j-1), (i, j), \n",
    "                                                            (i, j+1), (i+1,j-1), (i+1, j), (i+1, j+1)]])\n",
    "            # Stencil to evaluate x components of gradients at staggered points\n",
    "            gradx = numpy.array([[-0.25, 0, 0.25, -0.25, 0, 0.25, 0, 0, 0],\n",
    "                                 [0, 0, 0, -1, 1, 0, 0, 0, 0],\n",
    "                                 [0, 0, 0, 0, -1, 1, 0, 0, 0],\n",
    "                                 [0, 0, 0, -0.25, 0, 0.25, -0.25, 0, 0.25]]) / h\n",
    "            # Stencil to evaluate y components of gradients at staggered points\n",
    "            grady = numpy.array([[0,-1, 0, 0, 1, 0, 0, 0, 0],\n",
    "                                 [-0.25, -0.25, 0, 0, 0, 0, 0.25, 0.25, 0],\n",
    "                                 [0, -0.25, -0.25, 0, 0, 0, 0, 0.25, 0.25],\n",
    "                                 [0, 0, 0, 0, -1, 0, 0, 1, 0]]) / h\n",
    "            # Stencil for evaluating gradients necessary for divergence\n",
    "            grad = numpy.array([[0, -1, 0, 0, 1, 0, 0, 0, 0],\n",
    "                                [0, 0, 0, -1, 1, 0, 0, 0, 0],\n",
    "                                [0, 0, 0, 0, -1, 1, 0, 0, 0],\n",
    "                                [0, 0, 0, 0, -1, 0, 0, 1, 0]]) / h\n",
    "            # Stencil to compute divergence at cell centers from fluxes at four staggered points\n",
    "            div = numpy.array([-1, -1, 1, 1]) / h\n",
    "            ustencil = u[stencili]\n",
    "            gradu = numpy.array([gradx @ ustencil, grady @ ustencil]).T\n",
    "            mix_grad = numpy.array([gradu[0,1], gradu[1,0], gradu[2,0], gradu[3,1]])\n",
    "            kappa = numpy.array([(0.5*eps**2 + 0.5*(gu @ gu))**((p-2)/2) for gu in gradu])\n",
    "            if mask[row] == 0 and J_switch: # Dirichlet boundary\n",
    "                ai.append(row)\n",
    "                aj.append(row)\n",
    "                av.append(1)\n",
    "            else:\n",
    "                F[row] -= div @ (kappa * mix_grad)\n",
    "                if J_switch:\n",
    "                    Jstencil = -div @ (kappa[:,None] * grad) # build J\n",
    "                    smask = mask[stencili]\n",
    "                    ai += [row]*sum(smask)\n",
    "                    aj += stencili[smask].tolist()\n",
    "                    av += Jstencil[smask].tolist() # build sparse matrix J\n",
    "    if J_switch:\n",
    "        J = sp.csc_matrix((av, (ai, aj)), shape=(m*m,m*m))\n",
    "    else:\n",
    "        J = 0\n",
    "    return F, J"
   ]
  },
  {
   "cell_type": "markdown",
   "metadata": {},
   "source": [
    "Demonstrate one iteration of the solver on the usual Laplacian (i.e. set $p=2$)\n",
    "$$ -\\nabla\\cdot (\\nabla u) = 0 $$"
   ]
  },
  {
   "cell_type": "code",
   "execution_count": 404,
   "metadata": {},
   "outputs": [
    {
     "data": {
      "image/png": "[encoded data removed]",
      "text/plain": [
       "<Figure size 432x288 with 2 Axes>"
      ]
     },
     "metadata": {
      "needs_background": "light"
     },
     "output_type": "display_data"
    }
   ],
   "source": [
    "# u += deltau\n",
    "h = .2\n",
    "x, y = hgrid(h)\n",
    "u = 0*x\n",
    "params = (1,2) # solve a linear problem\n",
    "\n",
    "F, J = picard_laplacian(h, x, y, u, lambda x,y: 0*x+1,\n",
    "                       lambda x,y: 0*x, params, dirichlet=((0,-1),(0,-1)))\n",
    "deltau = sp.linalg.spsolve(J, -F).reshape(x.shape)\n",
    "pyplot.contourf(x, y, deltau)\n",
    "pyplot.colorbar();"
   ]
  },
  {
   "cell_type": "markdown",
   "metadata": {},
   "source": [
    "Below is the `solve_nonlinear` function from lecture adapted to execute the Picard solver. The figure that follows is an illustration of convergence under a range of values of $p$. We see the rate of convergence get worse as $p$ grows. Notably, values below 2 all provide seemingly the same fast rate of convergence--these create negative exponents in $\\kappa$."
   ]
  },
  {
   "cell_type": "code",
   "execution_count": 452,
   "metadata": {},
   "outputs": [
    {
     "data": {
      "image/png": "[encoded data removed]",
      "text/plain": [
       "<Figure size 432x288 with 1 Axes>"
      ]
     },
     "metadata": {
      "needs_background": "light"
     },
     "output_type": "display_data"
    }
   ],
   "source": [
    "def solve_picard(h, g0, dirichlet, params, atol=1e-8, verbose=False):\n",
    "    x, y = hgrid(h)\n",
    "    u = 0*x\n",
    "    norms = []\n",
    "    for i in range(300):\n",
    "        F, J = picard_laplacian(h, x, y, u, lambda x,y: 0*x+1,\n",
    "                               g0=g0, params=params, dirichlet=dirichlet)\n",
    "        anorm = numpy.linalg.norm(F, numpy.inf)\n",
    "        norms += [anorm]\n",
    "        if verbose:\n",
    "            print('{:2d}: anorm {:8e}'.format(i,anorm))\n",
    "        if anorm < atol:\n",
    "            break\n",
    "        deltau = sp.linalg.spsolve(J, -F)\n",
    "        u += deltau.reshape(x.shape)\n",
    "    return x, y, u, i, norms\n",
    "\n",
    "ps = numpy.arange(.1,5.5,.1)\n",
    "ii = []\n",
    "for p in ps:\n",
    "    params = (1,p)\n",
    "    x, y, u, i,_ = solve_picard(h, lambda x,y: 0*x,\n",
    "                             dirichlet=((0,-1),(0,-1)), params=params,\n",
    "                             verbose=False)\n",
    "    ii += [i]\n",
    "pyplot.plot(ps, ii);\n",
    "pyplot.xlabel('$p$');\n",
    "pyplot.ylabel('iter');\n",
    "pyplot.title('convergence varying $p$, $\\epsilon = 1$');"
   ]
  },
  {
   "cell_type": "markdown",
   "metadata": {},
   "source": [
    "## Part 2\n",
    "\n",
    "Here we use the Picard linearization as a preconditioner to a Newton-Krylov method, which employs the GMRES linear solver. Using the residual, $F$, we approximate a matrix-free Jacobian with a finite differencing strategy.\n",
    "$$ \\tilde{J}(u)v \\approx \\frac{F(u+hv) - F(u)}{h} $$\n",
    "Below `fsolve_newtonkrylov` has been adapted from lecture to include a preconditioner, which is a direct solve of the Picard linearization. To obtain the direct solve, we employ `splinalg.factorized`, which returns a callable LU decomposition. A run is shown with $\\epsilon = 0.01$ and $p=4$. We see some stagnation at the beginning, some very slow linear convergence, and finally around the 22nd iteration some movement that appears to be quadratic.\n",
    "\n",
    "No line search is used. Instead the step size is chosen to be 1 at each Newton iteration."
   ]
  },
  {
   "cell_type": "code",
   "execution_count": 415,
   "metadata": {},
   "outputs": [
    {
     "name": "stdout",
     "output_type": "stream",
     "text": [
      "Newton 0 anorm 1.76e+12 rnorm 4.39e+11\n",
      "Newton 1 anorm 5.20e+11 rnorm 1.30e+11\n",
      "Newton 2 anorm 1.54e+11 rnorm 3.85e+10\n",
      "Newton 3 anorm 4.57e+10 rnorm 1.14e+10\n",
      "Newton 4 anorm 1.35e+10 rnorm 3.38e+09\n",
      "Newton 5 anorm 4.01e+09 rnorm 1.00e+09\n",
      "Newton 6 anorm 1.19e+09 rnorm 2.97e+08\n",
      "Newton 7 anorm 3.52e+08 rnorm 8.80e+07\n",
      "Newton 8 anorm 1.04e+08 rnorm 2.61e+07\n",
      "Newton 9 anorm 3.09e+07 rnorm 7.73e+06\n",
      "Newton 10 anorm 9.16e+06 rnorm 2.29e+06\n",
      "Newton 11 anorm 2.71e+06 rnorm 6.78e+05\n",
      "Newton 12 anorm 8.04e+05 rnorm 2.01e+05\n",
      "Newton 13 anorm 2.38e+05 rnorm 5.95e+04\n",
      "Newton 14 anorm 7.06e+04 rnorm 1.76e+04\n",
      "Newton 15 anorm 2.09e+04 rnorm 5.23e+03\n",
      "Newton 16 anorm 6.19e+03 rnorm 1.55e+03\n",
      "Newton 17 anorm 1.83e+03 rnorm 4.58e+02\n",
      "Newton 18 anorm 5.41e+02 rnorm 1.35e+02\n",
      "Newton 19 anorm 1.58e+02 rnorm 3.95e+01\n",
      "Newton 20 anorm 4.45e+01 rnorm 1.11e+01\n",
      "Newton 21 anorm 1.12e+01 rnorm 2.79e+00\n",
      "Newton 22 anorm 1.90e+00 rnorm 4.74e-01\n",
      "Newton 23 anorm 1.04e-01 rnorm 2.59e-02\n",
      "Newton 24 anorm 3.84e-04 rnorm 9.60e-05\n",
      "Newton 25 anorm 3.57e-07 rnorm 8.91e-08\n"
     ]
    }
   ],
   "source": [
    "def fsolve_newtonkrylov(F, J, u0, epsilon=1e-8, rtol=1e-10, maxit=50, verbose=False):\n",
    "    u = u0.copy()\n",
    "    Fu = F(u)\n",
    "    norm0 = numpy.linalg.norm(Fu)\n",
    "    norms = []\n",
    "    for i in range(maxit):\n",
    "        def Ju_fd(v):\n",
    "            return (F(u + epsilon*v) - Fu) / epsilon\n",
    "        Ju = sp.linalg.LinearOperator((len(Fu),len(u)), matvec=Ju_fd)\n",
    "        Pinv = sp.linalg.LinearOperator((len(Fu),len(u)), matvec=sp.linalg.factorized(J)) # preconditioner\n",
    "        du, info = sp.linalg.gmres(Ju, Fu, atol=1.e-6, M=Pinv)\n",
    "        if info != 0: # error handling\n",
    "            print(numpy.linalg.norm(Ju @ du - Fu), norm)\n",
    "            raise RuntimeError('GMRES failed to converge: {:d}'.format(info))\n",
    "        u -= du # update u\n",
    "        Fu = F(u)\n",
    "        norm = numpy.linalg.norm(Fu)\n",
    "        norms += [norm]\n",
    "        if verbose:\n",
    "            print('Newton {:d} anorm {:6.2e} rnorm {:6.2e}'\n",
    "                  .format(i, norm, norm/norm0))\n",
    "        if norm < rtol * norm0:\n",
    "            break\n",
    "    return u, i, norms\n",
    "\n",
    "h = .2\n",
    "x, y = hgrid(h)\n",
    "u = (0*x).flatten()\n",
    "params = (.01,4)\n",
    "\n",
    "_, J = picard_laplacian(h, x, y, u, lambda x,y: 0*x+1,\n",
    "                       lambda x,y: 0*x, params, dirichlet=((0,-1),(0,-1)))\n",
    "F = lambda u: picard_laplacian(h, x, y, u, lambda x,y: 0*x+1,\n",
    "                       lambda x,y: 0*x, params, dirichlet=((0,-1),(0,-1)), J_switch=False)[0]\n",
    "\n",
    "fsolve_newtonkrylov(F, J, u, rtol=1e-6, verbose=True);"
   ]
  },
  {
   "cell_type": "markdown",
   "metadata": {},
   "source": [
    "### A comparison of Picard and Newton-Krylov solvers"
   ]
  },
  {
   "cell_type": "code",
   "execution_count": 444,
   "metadata": {},
   "outputs": [
    {
     "data": {
      "image/png": "[encoded data removed]",
      "text/plain": [
       "<Figure size 432x288 with 1 Axes>"
      ]
     },
     "metadata": {
      "needs_background": "light"
     },
     "output_type": "display_data"
    }
   ],
   "source": [
    "h = .2\n",
    "x, y = hgrid(h)\n",
    "u = (0*x).flatten()\n",
    "params = (1,4)\n",
    "\n",
    "_,i,norms = fsolve_newtonkrylov(F, J, u, rtol=1e-6, verbose=False);\n",
    "_,_,_,j,norms2 = solve_picard(h, lambda x,y: 0*x,\n",
    "                 dirichlet=((0,-1),(0,-1)), params=params,\n",
    "                 verbose=False)\n",
    "\n",
    "pyplot.title('Picard vs Newton-Krylov convergence')\n",
    "pyplot.xlabel('iter')\n",
    "pyplot.ylabel('anorm')\n",
    "pyplot.semilogy(numpy.arange(i+1), norms, label='NK');\n",
    "pyplot.semilogy(numpy.arange(j+1), norms2, label='Picard');\n",
    "pyplot.legend();"
   ]
  },
  {
   "cell_type": "markdown",
   "metadata": {},
   "source": [
    "## Part 3\n",
    "\n",
    "To implement a Newton linearization, we need to construct the actual Jacobian of our residual. The Picard solver has $J_P = -\\nabla\\cdot(\\kappa(\\nabla u)\\nabla\\delta u)$. But the actual Jacobian is given by\n",
    "$$\\begin{align*}\n",
    "J &= \\partial F/\\partial u \\\\\n",
    " &= \\frac{\\partial}{\\partial u} \\left(-\\nabla\\cdot (\\kappa(\\nabla u)\\nabla u)\\right) \\\\\n",
    " &= -\\nabla\\cdot \\left(\\frac{\\partial}{\\partial u}\\kappa\\nabla u + \\kappa\\frac{\\partial}{\\partial u}\\nabla u\\right) \\\\\n",
    " &= -\\nabla\\cdot \\left(\\frac{\\partial}{\\partial u}\\kappa\\nabla u + \\kappa\\nabla \\delta u\\right)\n",
    "\\end{align*}$$\n",
    "\n",
    "The approximate matrix-free Jacobian that we constructed in KN is not only robust but also first order accurate in $\\epsilon=10^{-9}$. It gives us the action of J on a vector, which is much easier to manipulate and saves memory costs as well. Implementing the Jacobian linearization would be convoluted and relatively expensive. Furthermore, since the matrix-free approximation is fairly accurate, I doubt our convergence would improve much in terms of number of iterations."
   ]
  },
  {
   "cell_type": "markdown",
   "metadata": {},
   "source": []
  }
 ],
 "metadata": {
  "kernelspec": {
   "display_name": "Python 3",
   "language": "python",
   "name": "python3"
  },
  "language_info": {
   "codemirror_mode": {
    "name": "ipython",
    "version": 3
   },
   "file_extension": ".py",
   "mimetype": "text/x-python",
   "name": "python",
   "nbconvert_exporter": "python",
   "pygments_lexer": "ipython3",
   "version": "3.7.0"
  }
 },
 "nbformat": 4,
 "nbformat_minor": 2
}
